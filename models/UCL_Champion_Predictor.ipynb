{
 "cells": [
  {
   "cell_type": "code",
   "id": "initial_id",
   "metadata": {
    "collapsed": true,
    "ExecuteTime": {
     "end_time": "2025-05-30T16:24:09.844724Z",
     "start_time": "2025-05-30T16:24:09.838666Z"
    }
   },
   "source": [
    "import pandas as pd\n",
    "import numpy as np\n",
    "import seaborn as sns\n",
    "import matplotlib.pyplot as plt"
   ],
   "outputs": [],
   "execution_count": 30
  },
  {
   "metadata": {
    "ExecuteTime": {
     "end_time": "2025-05-30T16:24:09.885720Z",
     "start_time": "2025-05-30T16:24:09.870306Z"
    }
   },
   "cell_type": "code",
   "source": [
    "df = pd.read_csv('../Data/ucl_stats.csv')\n",
    "df"
   ],
   "id": "a67734bc1281242b",
   "outputs": [
    {
     "data": {
      "text/plain": [
       "     year                    team  match_played  wins  draws  losts  \\\n",
       "0    1993               Marseille             6     3      3      0   \n",
       "1    1993                   Milan             7     6      0      1   \n",
       "2    1993                 Rangers             6     2      4      0   \n",
       "3    1993             Club Brugge             6     2      1      3   \n",
       "4    1993             CSKA Moscow             6     0      2      4   \n",
       "..    ...                     ...           ...   ...    ...    ...   \n",
       "709  2020  Zenit Saint Petersburg             6     2      1      3   \n",
       "710  2020                Valencia             8     3      2      3   \n",
       "711  2020                 Chelsea             8     3      2      3   \n",
       "712  2020                    Ajax             6     3      1      2   \n",
       "713  2020                   Lille             6     0      1      5   \n",
       "\n",
       "     goals_scored  goals_conceded  gd  group_point  champions  \n",
       "0              14               4  10            9          1  \n",
       "1              11               2   9           12          0  \n",
       "2               7               5   2            8          0  \n",
       "3               5               8  -3            5          0  \n",
       "4               2              11  -9            2          0  \n",
       "..            ...             ...  ..          ...        ...  \n",
       "709             7               9  -2            7          0  \n",
       "710            13              15  -2           11          0  \n",
       "711            12              16  -4           11          0  \n",
       "712            12               6   6           10          0  \n",
       "713             4              14 -10            1          0  \n",
       "\n",
       "[714 rows x 11 columns]"
      ],
      "text/html": [
       "<div>\n",
       "<style scoped>\n",
       "    .dataframe tbody tr th:only-of-type {\n",
       "        vertical-align: middle;\n",
       "    }\n",
       "\n",
       "    .dataframe tbody tr th {\n",
       "        vertical-align: top;\n",
       "    }\n",
       "\n",
       "    .dataframe thead th {\n",
       "        text-align: right;\n",
       "    }\n",
       "</style>\n",
       "<table border=\"1\" class=\"dataframe\">\n",
       "  <thead>\n",
       "    <tr style=\"text-align: right;\">\n",
       "      <th></th>\n",
       "      <th>year</th>\n",
       "      <th>team</th>\n",
       "      <th>match_played</th>\n",
       "      <th>wins</th>\n",
       "      <th>draws</th>\n",
       "      <th>losts</th>\n",
       "      <th>goals_scored</th>\n",
       "      <th>goals_conceded</th>\n",
       "      <th>gd</th>\n",
       "      <th>group_point</th>\n",
       "      <th>champions</th>\n",
       "    </tr>\n",
       "  </thead>\n",
       "  <tbody>\n",
       "    <tr>\n",
       "      <th>0</th>\n",
       "      <td>1993</td>\n",
       "      <td>Marseille</td>\n",
       "      <td>6</td>\n",
       "      <td>3</td>\n",
       "      <td>3</td>\n",
       "      <td>0</td>\n",
       "      <td>14</td>\n",
       "      <td>4</td>\n",
       "      <td>10</td>\n",
       "      <td>9</td>\n",
       "      <td>1</td>\n",
       "    </tr>\n",
       "    <tr>\n",
       "      <th>1</th>\n",
       "      <td>1993</td>\n",
       "      <td>Milan</td>\n",
       "      <td>7</td>\n",
       "      <td>6</td>\n",
       "      <td>0</td>\n",
       "      <td>1</td>\n",
       "      <td>11</td>\n",
       "      <td>2</td>\n",
       "      <td>9</td>\n",
       "      <td>12</td>\n",
       "      <td>0</td>\n",
       "    </tr>\n",
       "    <tr>\n",
       "      <th>2</th>\n",
       "      <td>1993</td>\n",
       "      <td>Rangers</td>\n",
       "      <td>6</td>\n",
       "      <td>2</td>\n",
       "      <td>4</td>\n",
       "      <td>0</td>\n",
       "      <td>7</td>\n",
       "      <td>5</td>\n",
       "      <td>2</td>\n",
       "      <td>8</td>\n",
       "      <td>0</td>\n",
       "    </tr>\n",
       "    <tr>\n",
       "      <th>3</th>\n",
       "      <td>1993</td>\n",
       "      <td>Club Brugge</td>\n",
       "      <td>6</td>\n",
       "      <td>2</td>\n",
       "      <td>1</td>\n",
       "      <td>3</td>\n",
       "      <td>5</td>\n",
       "      <td>8</td>\n",
       "      <td>-3</td>\n",
       "      <td>5</td>\n",
       "      <td>0</td>\n",
       "    </tr>\n",
       "    <tr>\n",
       "      <th>4</th>\n",
       "      <td>1993</td>\n",
       "      <td>CSKA Moscow</td>\n",
       "      <td>6</td>\n",
       "      <td>0</td>\n",
       "      <td>2</td>\n",
       "      <td>4</td>\n",
       "      <td>2</td>\n",
       "      <td>11</td>\n",
       "      <td>-9</td>\n",
       "      <td>2</td>\n",
       "      <td>0</td>\n",
       "    </tr>\n",
       "    <tr>\n",
       "      <th>...</th>\n",
       "      <td>...</td>\n",
       "      <td>...</td>\n",
       "      <td>...</td>\n",
       "      <td>...</td>\n",
       "      <td>...</td>\n",
       "      <td>...</td>\n",
       "      <td>...</td>\n",
       "      <td>...</td>\n",
       "      <td>...</td>\n",
       "      <td>...</td>\n",
       "      <td>...</td>\n",
       "    </tr>\n",
       "    <tr>\n",
       "      <th>709</th>\n",
       "      <td>2020</td>\n",
       "      <td>Zenit Saint Petersburg</td>\n",
       "      <td>6</td>\n",
       "      <td>2</td>\n",
       "      <td>1</td>\n",
       "      <td>3</td>\n",
       "      <td>7</td>\n",
       "      <td>9</td>\n",
       "      <td>-2</td>\n",
       "      <td>7</td>\n",
       "      <td>0</td>\n",
       "    </tr>\n",
       "    <tr>\n",
       "      <th>710</th>\n",
       "      <td>2020</td>\n",
       "      <td>Valencia</td>\n",
       "      <td>8</td>\n",
       "      <td>3</td>\n",
       "      <td>2</td>\n",
       "      <td>3</td>\n",
       "      <td>13</td>\n",
       "      <td>15</td>\n",
       "      <td>-2</td>\n",
       "      <td>11</td>\n",
       "      <td>0</td>\n",
       "    </tr>\n",
       "    <tr>\n",
       "      <th>711</th>\n",
       "      <td>2020</td>\n",
       "      <td>Chelsea</td>\n",
       "      <td>8</td>\n",
       "      <td>3</td>\n",
       "      <td>2</td>\n",
       "      <td>3</td>\n",
       "      <td>12</td>\n",
       "      <td>16</td>\n",
       "      <td>-4</td>\n",
       "      <td>11</td>\n",
       "      <td>0</td>\n",
       "    </tr>\n",
       "    <tr>\n",
       "      <th>712</th>\n",
       "      <td>2020</td>\n",
       "      <td>Ajax</td>\n",
       "      <td>6</td>\n",
       "      <td>3</td>\n",
       "      <td>1</td>\n",
       "      <td>2</td>\n",
       "      <td>12</td>\n",
       "      <td>6</td>\n",
       "      <td>6</td>\n",
       "      <td>10</td>\n",
       "      <td>0</td>\n",
       "    </tr>\n",
       "    <tr>\n",
       "      <th>713</th>\n",
       "      <td>2020</td>\n",
       "      <td>Lille</td>\n",
       "      <td>6</td>\n",
       "      <td>0</td>\n",
       "      <td>1</td>\n",
       "      <td>5</td>\n",
       "      <td>4</td>\n",
       "      <td>14</td>\n",
       "      <td>-10</td>\n",
       "      <td>1</td>\n",
       "      <td>0</td>\n",
       "    </tr>\n",
       "  </tbody>\n",
       "</table>\n",
       "<p>714 rows × 11 columns</p>\n",
       "</div>"
      ]
     },
     "execution_count": 31,
     "metadata": {},
     "output_type": "execute_result"
    }
   ],
   "execution_count": 31
  },
  {
   "metadata": {
    "ExecuteTime": {
     "end_time": "2025-05-30T16:24:09.908002Z",
     "start_time": "2025-05-30T16:24:09.901515Z"
    }
   },
   "cell_type": "code",
   "source": "df.isnull().sum()",
   "id": "752d8635ebd0d6d8",
   "outputs": [
    {
     "data": {
      "text/plain": [
       "year              0\n",
       "team              0\n",
       "match_played      0\n",
       "wins              0\n",
       "draws             0\n",
       "losts             0\n",
       "goals_scored      0\n",
       "goals_conceded    0\n",
       "gd                0\n",
       "group_point       0\n",
       "champions         0\n",
       "dtype: int64"
      ]
     },
     "execution_count": 32,
     "metadata": {},
     "output_type": "execute_result"
    }
   ],
   "execution_count": 32
  },
  {
   "metadata": {
    "ExecuteTime": {
     "end_time": "2025-05-30T16:24:09.925531Z",
     "start_time": "2025-05-30T16:24:09.917589Z"
    }
   },
   "cell_type": "code",
   "source": "df['team'].value_counts()",
   "id": "d60601074cc2a8f2",
   "outputs": [
    {
     "data": {
      "text/plain": [
       "team\n",
       "Real Madrid          24\n",
       "Barcelona            23\n",
       "Manchester United    22\n",
       "Bayern Munich        22\n",
       "Porto                22\n",
       "                     ..\n",
       "Qaraba?               1\n",
       "1899 Hoffenheim       1\n",
       "Young Boys            1\n",
       "Atalanta              1\n",
       "Red Bull Salzburg     1\n",
       "Name: count, Length: 142, dtype: int64"
      ]
     },
     "execution_count": 33,
     "metadata": {},
     "output_type": "execute_result"
    }
   ],
   "execution_count": 33
  },
  {
   "metadata": {
    "ExecuteTime": {
     "end_time": "2025-05-30T16:24:09.938291Z",
     "start_time": "2025-05-30T16:24:09.933509Z"
    }
   },
   "cell_type": "code",
   "source": "temp = df[df['team']=='Real Madrid']",
   "id": "9adea7d343b1e421",
   "outputs": [],
   "execution_count": 34
  },
  {
   "metadata": {
    "ExecuteTime": {
     "end_time": "2025-05-30T16:24:09.970924Z",
     "start_time": "2025-05-30T16:24:09.953612Z"
    }
   },
   "cell_type": "code",
   "source": [
    "df.drop(columns=['year'],inplace=True)\n",
    "X = df.iloc[:,:-1]\n",
    "y = df.iloc[:,-1]\n",
    "X"
   ],
   "id": "fd43c7fd72845ee7",
   "outputs": [
    {
     "data": {
      "text/plain": [
       "                       team  match_played  wins  draws  losts  goals_scored  \\\n",
       "0                 Marseille             6     3      3      0            14   \n",
       "1                     Milan             7     6      0      1            11   \n",
       "2                   Rangers             6     2      4      0             7   \n",
       "3               Club Brugge             6     2      1      3             5   \n",
       "4               CSKA Moscow             6     0      2      4             2   \n",
       "..                      ...           ...   ...    ...    ...           ...   \n",
       "709  Zenit Saint Petersburg             6     2      1      3             7   \n",
       "710                Valencia             8     3      2      3            13   \n",
       "711                 Chelsea             8     3      2      3            12   \n",
       "712                    Ajax             6     3      1      2            12   \n",
       "713                   Lille             6     0      1      5             4   \n",
       "\n",
       "     goals_conceded  gd  group_point  \n",
       "0                 4  10            9  \n",
       "1                 2   9           12  \n",
       "2                 5   2            8  \n",
       "3                 8  -3            5  \n",
       "4                11  -9            2  \n",
       "..              ...  ..          ...  \n",
       "709               9  -2            7  \n",
       "710              15  -2           11  \n",
       "711              16  -4           11  \n",
       "712               6   6           10  \n",
       "713              14 -10            1  \n",
       "\n",
       "[714 rows x 9 columns]"
      ],
      "text/html": [
       "<div>\n",
       "<style scoped>\n",
       "    .dataframe tbody tr th:only-of-type {\n",
       "        vertical-align: middle;\n",
       "    }\n",
       "\n",
       "    .dataframe tbody tr th {\n",
       "        vertical-align: top;\n",
       "    }\n",
       "\n",
       "    .dataframe thead th {\n",
       "        text-align: right;\n",
       "    }\n",
       "</style>\n",
       "<table border=\"1\" class=\"dataframe\">\n",
       "  <thead>\n",
       "    <tr style=\"text-align: right;\">\n",
       "      <th></th>\n",
       "      <th>team</th>\n",
       "      <th>match_played</th>\n",
       "      <th>wins</th>\n",
       "      <th>draws</th>\n",
       "      <th>losts</th>\n",
       "      <th>goals_scored</th>\n",
       "      <th>goals_conceded</th>\n",
       "      <th>gd</th>\n",
       "      <th>group_point</th>\n",
       "    </tr>\n",
       "  </thead>\n",
       "  <tbody>\n",
       "    <tr>\n",
       "      <th>0</th>\n",
       "      <td>Marseille</td>\n",
       "      <td>6</td>\n",
       "      <td>3</td>\n",
       "      <td>3</td>\n",
       "      <td>0</td>\n",
       "      <td>14</td>\n",
       "      <td>4</td>\n",
       "      <td>10</td>\n",
       "      <td>9</td>\n",
       "    </tr>\n",
       "    <tr>\n",
       "      <th>1</th>\n",
       "      <td>Milan</td>\n",
       "      <td>7</td>\n",
       "      <td>6</td>\n",
       "      <td>0</td>\n",
       "      <td>1</td>\n",
       "      <td>11</td>\n",
       "      <td>2</td>\n",
       "      <td>9</td>\n",
       "      <td>12</td>\n",
       "    </tr>\n",
       "    <tr>\n",
       "      <th>2</th>\n",
       "      <td>Rangers</td>\n",
       "      <td>6</td>\n",
       "      <td>2</td>\n",
       "      <td>4</td>\n",
       "      <td>0</td>\n",
       "      <td>7</td>\n",
       "      <td>5</td>\n",
       "      <td>2</td>\n",
       "      <td>8</td>\n",
       "    </tr>\n",
       "    <tr>\n",
       "      <th>3</th>\n",
       "      <td>Club Brugge</td>\n",
       "      <td>6</td>\n",
       "      <td>2</td>\n",
       "      <td>1</td>\n",
       "      <td>3</td>\n",
       "      <td>5</td>\n",
       "      <td>8</td>\n",
       "      <td>-3</td>\n",
       "      <td>5</td>\n",
       "    </tr>\n",
       "    <tr>\n",
       "      <th>4</th>\n",
       "      <td>CSKA Moscow</td>\n",
       "      <td>6</td>\n",
       "      <td>0</td>\n",
       "      <td>2</td>\n",
       "      <td>4</td>\n",
       "      <td>2</td>\n",
       "      <td>11</td>\n",
       "      <td>-9</td>\n",
       "      <td>2</td>\n",
       "    </tr>\n",
       "    <tr>\n",
       "      <th>...</th>\n",
       "      <td>...</td>\n",
       "      <td>...</td>\n",
       "      <td>...</td>\n",
       "      <td>...</td>\n",
       "      <td>...</td>\n",
       "      <td>...</td>\n",
       "      <td>...</td>\n",
       "      <td>...</td>\n",
       "      <td>...</td>\n",
       "    </tr>\n",
       "    <tr>\n",
       "      <th>709</th>\n",
       "      <td>Zenit Saint Petersburg</td>\n",
       "      <td>6</td>\n",
       "      <td>2</td>\n",
       "      <td>1</td>\n",
       "      <td>3</td>\n",
       "      <td>7</td>\n",
       "      <td>9</td>\n",
       "      <td>-2</td>\n",
       "      <td>7</td>\n",
       "    </tr>\n",
       "    <tr>\n",
       "      <th>710</th>\n",
       "      <td>Valencia</td>\n",
       "      <td>8</td>\n",
       "      <td>3</td>\n",
       "      <td>2</td>\n",
       "      <td>3</td>\n",
       "      <td>13</td>\n",
       "      <td>15</td>\n",
       "      <td>-2</td>\n",
       "      <td>11</td>\n",
       "    </tr>\n",
       "    <tr>\n",
       "      <th>711</th>\n",
       "      <td>Chelsea</td>\n",
       "      <td>8</td>\n",
       "      <td>3</td>\n",
       "      <td>2</td>\n",
       "      <td>3</td>\n",
       "      <td>12</td>\n",
       "      <td>16</td>\n",
       "      <td>-4</td>\n",
       "      <td>11</td>\n",
       "    </tr>\n",
       "    <tr>\n",
       "      <th>712</th>\n",
       "      <td>Ajax</td>\n",
       "      <td>6</td>\n",
       "      <td>3</td>\n",
       "      <td>1</td>\n",
       "      <td>2</td>\n",
       "      <td>12</td>\n",
       "      <td>6</td>\n",
       "      <td>6</td>\n",
       "      <td>10</td>\n",
       "    </tr>\n",
       "    <tr>\n",
       "      <th>713</th>\n",
       "      <td>Lille</td>\n",
       "      <td>6</td>\n",
       "      <td>0</td>\n",
       "      <td>1</td>\n",
       "      <td>5</td>\n",
       "      <td>4</td>\n",
       "      <td>14</td>\n",
       "      <td>-10</td>\n",
       "      <td>1</td>\n",
       "    </tr>\n",
       "  </tbody>\n",
       "</table>\n",
       "<p>714 rows × 9 columns</p>\n",
       "</div>"
      ]
     },
     "execution_count": 35,
     "metadata": {},
     "output_type": "execute_result"
    }
   ],
   "execution_count": 35
  },
  {
   "metadata": {
    "ExecuteTime": {
     "end_time": "2025-05-30T16:24:09.987855Z",
     "start_time": "2025-05-30T16:24:09.970924Z"
    }
   },
   "cell_type": "code",
   "source": "y",
   "id": "5db6a33fad80aaf3",
   "outputs": [
    {
     "data": {
      "text/plain": [
       "0      1\n",
       "1      0\n",
       "2      0\n",
       "3      0\n",
       "4      0\n",
       "      ..\n",
       "709    0\n",
       "710    0\n",
       "711    0\n",
       "712    0\n",
       "713    0\n",
       "Name: champions, Length: 714, dtype: int64"
      ]
     },
     "execution_count": 36,
     "metadata": {},
     "output_type": "execute_result"
    }
   ],
   "execution_count": 36
  },
  {
   "metadata": {
    "ExecuteTime": {
     "end_time": "2025-05-30T16:24:10.074109Z",
     "start_time": "2025-05-30T16:24:10.064520Z"
    }
   },
   "cell_type": "code",
   "source": [
    "temp = df.iloc[:,1:]\n",
    "temp.corr()"
   ],
   "id": "b59c33a7190f20e6",
   "outputs": [
    {
     "data": {
      "text/plain": [
       "                match_played      wins     draws     losts  goals_scored  \\\n",
       "match_played        1.000000  0.881810  0.354870 -0.332092      0.832264   \n",
       "wins                0.881810  1.000000  0.111423 -0.491203      0.881527   \n",
       "draws               0.354870  0.111423  1.000000 -0.625482      0.212875   \n",
       "losts              -0.332092 -0.491203 -0.625482  1.000000     -0.463614   \n",
       "goals_scored        0.832264  0.881527  0.212875 -0.463614      1.000000   \n",
       "goals_conceded      0.046375 -0.138426 -0.183612  0.526186      0.075775   \n",
       "gd                  0.738255  0.870092  0.282042 -0.672411      0.873077   \n",
       "group_point         0.701316  0.864891  0.212118 -0.649967      0.764339   \n",
       "champions           0.399148  0.404209  0.155125 -0.257225      0.396949   \n",
       "\n",
       "                goals_conceded        gd  group_point  champions  \n",
       "match_played          0.046375  0.738255     0.701316   0.399148  \n",
       "wins                 -0.138426  0.870092     0.864891   0.404209  \n",
       "draws                -0.183612  0.282042     0.212118   0.155125  \n",
       "losts                 0.526186 -0.672411    -0.649967  -0.257225  \n",
       "goals_scored          0.075775  0.873077     0.764339   0.396949  \n",
       "goals_conceded        1.000000 -0.391359    -0.285354  -0.048542  \n",
       "gd                   -0.391359  1.000000     0.831159   0.387477  \n",
       "group_point          -0.285354  0.831159     1.000000   0.206410  \n",
       "champions            -0.048542  0.387477     0.206410   1.000000  "
      ],
      "text/html": [
       "<div>\n",
       "<style scoped>\n",
       "    .dataframe tbody tr th:only-of-type {\n",
       "        vertical-align: middle;\n",
       "    }\n",
       "\n",
       "    .dataframe tbody tr th {\n",
       "        vertical-align: top;\n",
       "    }\n",
       "\n",
       "    .dataframe thead th {\n",
       "        text-align: right;\n",
       "    }\n",
       "</style>\n",
       "<table border=\"1\" class=\"dataframe\">\n",
       "  <thead>\n",
       "    <tr style=\"text-align: right;\">\n",
       "      <th></th>\n",
       "      <th>match_played</th>\n",
       "      <th>wins</th>\n",
       "      <th>draws</th>\n",
       "      <th>losts</th>\n",
       "      <th>goals_scored</th>\n",
       "      <th>goals_conceded</th>\n",
       "      <th>gd</th>\n",
       "      <th>group_point</th>\n",
       "      <th>champions</th>\n",
       "    </tr>\n",
       "  </thead>\n",
       "  <tbody>\n",
       "    <tr>\n",
       "      <th>match_played</th>\n",
       "      <td>1.000000</td>\n",
       "      <td>0.881810</td>\n",
       "      <td>0.354870</td>\n",
       "      <td>-0.332092</td>\n",
       "      <td>0.832264</td>\n",
       "      <td>0.046375</td>\n",
       "      <td>0.738255</td>\n",
       "      <td>0.701316</td>\n",
       "      <td>0.399148</td>\n",
       "    </tr>\n",
       "    <tr>\n",
       "      <th>wins</th>\n",
       "      <td>0.881810</td>\n",
       "      <td>1.000000</td>\n",
       "      <td>0.111423</td>\n",
       "      <td>-0.491203</td>\n",
       "      <td>0.881527</td>\n",
       "      <td>-0.138426</td>\n",
       "      <td>0.870092</td>\n",
       "      <td>0.864891</td>\n",
       "      <td>0.404209</td>\n",
       "    </tr>\n",
       "    <tr>\n",
       "      <th>draws</th>\n",
       "      <td>0.354870</td>\n",
       "      <td>0.111423</td>\n",
       "      <td>1.000000</td>\n",
       "      <td>-0.625482</td>\n",
       "      <td>0.212875</td>\n",
       "      <td>-0.183612</td>\n",
       "      <td>0.282042</td>\n",
       "      <td>0.212118</td>\n",
       "      <td>0.155125</td>\n",
       "    </tr>\n",
       "    <tr>\n",
       "      <th>losts</th>\n",
       "      <td>-0.332092</td>\n",
       "      <td>-0.491203</td>\n",
       "      <td>-0.625482</td>\n",
       "      <td>1.000000</td>\n",
       "      <td>-0.463614</td>\n",
       "      <td>0.526186</td>\n",
       "      <td>-0.672411</td>\n",
       "      <td>-0.649967</td>\n",
       "      <td>-0.257225</td>\n",
       "    </tr>\n",
       "    <tr>\n",
       "      <th>goals_scored</th>\n",
       "      <td>0.832264</td>\n",
       "      <td>0.881527</td>\n",
       "      <td>0.212875</td>\n",
       "      <td>-0.463614</td>\n",
       "      <td>1.000000</td>\n",
       "      <td>0.075775</td>\n",
       "      <td>0.873077</td>\n",
       "      <td>0.764339</td>\n",
       "      <td>0.396949</td>\n",
       "    </tr>\n",
       "    <tr>\n",
       "      <th>goals_conceded</th>\n",
       "      <td>0.046375</td>\n",
       "      <td>-0.138426</td>\n",
       "      <td>-0.183612</td>\n",
       "      <td>0.526186</td>\n",
       "      <td>0.075775</td>\n",
       "      <td>1.000000</td>\n",
       "      <td>-0.391359</td>\n",
       "      <td>-0.285354</td>\n",
       "      <td>-0.048542</td>\n",
       "    </tr>\n",
       "    <tr>\n",
       "      <th>gd</th>\n",
       "      <td>0.738255</td>\n",
       "      <td>0.870092</td>\n",
       "      <td>0.282042</td>\n",
       "      <td>-0.672411</td>\n",
       "      <td>0.873077</td>\n",
       "      <td>-0.391359</td>\n",
       "      <td>1.000000</td>\n",
       "      <td>0.831159</td>\n",
       "      <td>0.387477</td>\n",
       "    </tr>\n",
       "    <tr>\n",
       "      <th>group_point</th>\n",
       "      <td>0.701316</td>\n",
       "      <td>0.864891</td>\n",
       "      <td>0.212118</td>\n",
       "      <td>-0.649967</td>\n",
       "      <td>0.764339</td>\n",
       "      <td>-0.285354</td>\n",
       "      <td>0.831159</td>\n",
       "      <td>1.000000</td>\n",
       "      <td>0.206410</td>\n",
       "    </tr>\n",
       "    <tr>\n",
       "      <th>champions</th>\n",
       "      <td>0.399148</td>\n",
       "      <td>0.404209</td>\n",
       "      <td>0.155125</td>\n",
       "      <td>-0.257225</td>\n",
       "      <td>0.396949</td>\n",
       "      <td>-0.048542</td>\n",
       "      <td>0.387477</td>\n",
       "      <td>0.206410</td>\n",
       "      <td>1.000000</td>\n",
       "    </tr>\n",
       "  </tbody>\n",
       "</table>\n",
       "</div>"
      ]
     },
     "execution_count": 37,
     "metadata": {},
     "output_type": "execute_result"
    }
   ],
   "execution_count": 37
  },
  {
   "metadata": {
    "ExecuteTime": {
     "end_time": "2025-05-30T16:24:10.114834Z",
     "start_time": "2025-05-30T16:24:10.095958Z"
    }
   },
   "cell_type": "code",
   "source": [
    "from sklearn.model_selection import train_test_split\n",
    "X_train, X_test, y_train, y_test = train_test_split(X,y,test_size=0.1,random_state=42)"
   ],
   "id": "b6d0e5633822b127",
   "outputs": [],
   "execution_count": 38
  },
  {
   "metadata": {
    "ExecuteTime": {
     "end_time": "2025-05-30T16:24:10.136122Z",
     "start_time": "2025-05-30T16:24:10.119230Z"
    }
   },
   "cell_type": "code",
   "source": "X_train.columns",
   "id": "e1d71d71262d894",
   "outputs": [
    {
     "data": {
      "text/plain": [
       "Index(['team', 'match_played', 'wins', 'draws', 'losts', 'goals_scored',\n",
       "       'goals_conceded', 'gd', 'group_point'],\n",
       "      dtype='object')"
      ]
     },
     "execution_count": 39,
     "metadata": {},
     "output_type": "execute_result"
    }
   ],
   "execution_count": 39
  },
  {
   "metadata": {
    "ExecuteTime": {
     "end_time": "2025-05-30T16:24:10.225957Z",
     "start_time": "2025-05-30T16:24:10.208940Z"
    }
   },
   "cell_type": "code",
   "source": [
    "from sklearn.compose import ColumnTransformer\n",
    "from sklearn.preprocessing import StandardScaler, OneHotEncoder\n",
    "\n",
    "tranformer = ColumnTransformer(transformers=[\n",
    "    (\"trf1\",StandardScaler(),['match_played', 'wins', 'draws', 'losts', 'goals_scored','goals_conceded', 'gd', 'group_point']),\n",
    "    (\"trf2\",OneHotEncoder(sparse_output=False,handle_unknown='ignore', dtype=np.int32),['team'])\n",
    "],remainder='passthrough')"
   ],
   "id": "f18cce01491e0b81",
   "outputs": [],
   "execution_count": 40
  },
  {
   "metadata": {
    "ExecuteTime": {
     "end_time": "2025-05-30T16:24:10.253096Z",
     "start_time": "2025-05-30T16:24:10.240847Z"
    }
   },
   "cell_type": "code",
   "source": "X_train_trf = tranformer.fit_transform(X_train)",
   "id": "3db66cf1d79ecd9f",
   "outputs": [],
   "execution_count": 41
  },
  {
   "metadata": {
    "ExecuteTime": {
     "end_time": "2025-05-30T16:24:10.334107Z",
     "start_time": "2025-05-30T16:24:10.319990Z"
    }
   },
   "cell_type": "code",
   "source": [
    "X_test_trf = tranformer.transform(X_test)\n",
    "X_test_trf"
   ],
   "id": "1b51293707937a61",
   "outputs": [
    {
     "data": {
      "text/plain": [
       "array([[-0.78871244, -1.25905831, -0.68336744, ...,  0.        ,\n",
       "         0.        ,  0.        ],\n",
       "       [ 0.16757347,  1.34281541, -1.4682009 , ...,  0.        ,\n",
       "         0.        ,  0.        ],\n",
       "       [-0.78871244, -0.82541269, -0.68336744, ...,  0.        ,\n",
       "         0.        ,  0.        ],\n",
       "       ...,\n",
       "       [-0.78871244, -0.82541269, -1.4682009 , ...,  0.        ,\n",
       "         0.        ,  0.        ],\n",
       "       [ 1.12385937,  0.47552417, -0.68336744, ...,  0.        ,\n",
       "         0.        ,  0.        ],\n",
       "       [ 1.12385937,  1.34281541, -0.68336744, ...,  0.        ,\n",
       "         0.        ,  0.        ]])"
      ]
     },
     "execution_count": 42,
     "metadata": {},
     "output_type": "execute_result"
    }
   ],
   "execution_count": 42
  },
  {
   "metadata": {
    "ExecuteTime": {
     "end_time": "2025-05-30T16:24:10.339410Z",
     "start_time": "2025-05-30T16:24:10.335859Z"
    }
   },
   "cell_type": "code",
   "source": "from sklearn.metrics import accuracy_score",
   "id": "44404f122031e7a7",
   "outputs": [],
   "execution_count": 43
  },
  {
   "metadata": {
    "ExecuteTime": {
     "end_time": "2025-05-30T16:24:10.356596Z",
     "start_time": "2025-05-30T16:24:10.339410Z"
    }
   },
   "cell_type": "code",
   "source": [
    "from sklearn.linear_model import LogisticRegression\n",
    "lr = LogisticRegression()\n",
    "lr.fit(X_train_trf,y_train)\n",
    "y_pred = lr.predict(X_test_trf)\n",
    "accuracy_score(y_test, y_pred)"
   ],
   "id": "a291bf247c8355d9",
   "outputs": [
    {
     "data": {
      "text/plain": [
       "0.9305555555555556"
      ]
     },
     "execution_count": 44,
     "metadata": {},
     "output_type": "execute_result"
    }
   ],
   "execution_count": 44
  },
  {
   "metadata": {
    "ExecuteTime": {
     "end_time": "2025-05-30T16:24:10.365241Z",
     "start_time": "2025-05-30T16:24:10.356596Z"
    }
   },
   "cell_type": "code",
   "source": [
    "from sklearn.tree import DecisionTreeClassifier\n",
    "lr = DecisionTreeClassifier()\n",
    "lr.fit(X_train_trf,y_train)\n",
    "y_pred = lr.predict(X_test_trf)\n",
    "accuracy_score(y_test, y_pred)"
   ],
   "id": "dc50f449a1a3eb9f",
   "outputs": [
    {
     "data": {
      "text/plain": [
       "0.9444444444444444"
      ]
     },
     "execution_count": 45,
     "metadata": {},
     "output_type": "execute_result"
    }
   ],
   "execution_count": 45
  },
  {
   "metadata": {
    "ExecuteTime": {
     "end_time": "2025-05-30T16:24:10.502680Z",
     "start_time": "2025-05-30T16:24:10.367245Z"
    }
   },
   "cell_type": "code",
   "source": [
    "from sklearn.ensemble import RandomForestClassifier\n",
    "lr = RandomForestClassifier()\n",
    "lr.fit(X_train_trf,y_train)\n",
    "y_pred = lr.predict(X_test_trf)\n",
    "accuracy_score(y_test, y_pred)"
   ],
   "id": "2e6ab7f576769600",
   "outputs": [
    {
     "data": {
      "text/plain": [
       "0.9444444444444444"
      ]
     },
     "execution_count": 46,
     "metadata": {},
     "output_type": "execute_result"
    }
   ],
   "execution_count": 46
  },
  {
   "metadata": {
    "ExecuteTime": {
     "end_time": "2025-05-30T16:24:10.513932Z",
     "start_time": "2025-05-30T16:24:10.502680Z"
    }
   },
   "cell_type": "code",
   "source": [
    "from sklearn.svm import SVC\n",
    "lr = SVC()\n",
    "lr.fit(X_train_trf,y_train)\n",
    "y_pred = lr.predict(X_test_trf)\n",
    "accuracy_score(y_test, y_pred)"
   ],
   "id": "5328c49ea81b5b01",
   "outputs": [
    {
     "data": {
      "text/plain": [
       "0.9583333333333334"
      ]
     },
     "execution_count": 47,
     "metadata": {},
     "output_type": "execute_result"
    }
   ],
   "execution_count": 47
  },
  {
   "metadata": {
    "ExecuteTime": {
     "end_time": "2025-05-30T16:24:10.517512Z",
     "start_time": "2025-05-30T16:24:10.513932Z"
    }
   },
   "cell_type": "code",
   "source": "from sklearn.model_selection import cross_val_score",
   "id": "ea6424067aadcdc4",
   "outputs": [],
   "execution_count": 48
  },
  {
   "metadata": {
    "ExecuteTime": {
     "end_time": "2025-05-30T16:24:10.528747Z",
     "start_time": "2025-05-30T16:24:10.517512Z"
    }
   },
   "cell_type": "code",
   "source": "X_trf = tranformer.fit_transform(X)",
   "id": "d0a844a3ae0571c4",
   "outputs": [],
   "execution_count": 49
  },
  {
   "metadata": {
    "ExecuteTime": {
     "end_time": "2025-05-30T16:24:10.606763Z",
     "start_time": "2025-05-30T16:24:10.528747Z"
    }
   },
   "cell_type": "code",
   "source": "np.mean(cross_val_score(estimator=SVC(),X=X_trf,y=y,cv=10,scoring='accuracy'))",
   "id": "aa05146aaf55f495",
   "outputs": [
    {
     "data": {
      "text/plain": [
       "np.float64(0.9593896713615024)"
      ]
     },
     "execution_count": 50,
     "metadata": {},
     "output_type": "execute_result"
    }
   ],
   "execution_count": 50
  },
  {
   "metadata": {
    "ExecuteTime": {
     "end_time": "2025-05-30T16:24:11.939786Z",
     "start_time": "2025-05-30T16:24:10.606763Z"
    }
   },
   "cell_type": "code",
   "source": "np.mean(cross_val_score(estimator=RandomForestClassifier(),X=X_trf,y=y,cv=10,scoring='accuracy'))",
   "id": "aec1567f313dd6ae",
   "outputs": [
    {
     "data": {
      "text/plain": [
       "np.float64(0.9636150234741784)"
      ]
     },
     "execution_count": 51,
     "metadata": {},
     "output_type": "execute_result"
    }
   ],
   "execution_count": 51
  },
  {
   "metadata": {
    "ExecuteTime": {
     "end_time": "2025-05-30T16:24:11.992232Z",
     "start_time": "2025-05-30T16:24:11.939786Z"
    }
   },
   "cell_type": "code",
   "source": "np.mean(cross_val_score(estimator=LogisticRegression(),X=X_trf,y=y,cv=10,scoring='accuracy'))",
   "id": "dac8c6220c9bc452",
   "outputs": [
    {
     "data": {
      "text/plain": [
       "np.float64(0.9636345852895148)"
      ]
     },
     "execution_count": 52,
     "metadata": {},
     "output_type": "execute_result"
    }
   ],
   "execution_count": 52
  },
  {
   "metadata": {
    "ExecuteTime": {
     "end_time": "2025-05-30T16:24:12.120583Z",
     "start_time": "2025-05-30T16:24:11.992232Z"
    }
   },
   "cell_type": "code",
   "source": [
    "from sklearn.ensemble import RandomForestClassifier\n",
    "model = RandomForestClassifier()\n",
    "model.fit(X_train_trf,y_train)\n",
    "y_pred = model.predict(X_test_trf)\n",
    "accuracy_score(y_test, y_pred)"
   ],
   "id": "4d7e2309e60220bf",
   "outputs": [
    {
     "data": {
      "text/plain": [
       "0.9444444444444444"
      ]
     },
     "execution_count": 53,
     "metadata": {},
     "output_type": "execute_result"
    }
   ],
   "execution_count": 53
  },
  {
   "metadata": {
    "ExecuteTime": {
     "end_time": "2025-05-30T16:24:12.134568Z",
     "start_time": "2025-05-30T16:24:12.120583Z"
    }
   },
   "cell_type": "code",
   "source": [
    "import pickle\n",
    "\n",
    "with open('model.pkl','wb') as f:\n",
    "    pickle.dump(model, f)\n",
    "    \n",
    "tranformer.fit(X_train)\n",
    "with open('tranformer.pkl','wb') as f:\n",
    "    pickle.dump(tranformer, f)"
   ],
   "id": "2bcf142ab2722787",
   "outputs": [],
   "execution_count": 54
  },
  {
   "metadata": {
    "ExecuteTime": {
     "end_time": "2025-05-30T16:24:12.140420Z",
     "start_time": "2025-05-30T16:24:12.134568Z"
    }
   },
   "cell_type": "code",
   "source": "X_test_trf.shape",
   "id": "1d6c861a02070f69",
   "outputs": [
    {
     "data": {
      "text/plain": [
       "(72, 146)"
      ]
     },
     "execution_count": 55,
     "metadata": {},
     "output_type": "execute_result"
    }
   ],
   "execution_count": 55
  },
  {
   "metadata": {
    "ExecuteTime": {
     "end_time": "2025-05-30T16:24:12.145253Z",
     "start_time": "2025-05-30T16:24:12.140420Z"
    }
   },
   "cell_type": "code",
   "source": "X_train_trf.shape",
   "id": "b850134737e2a69f",
   "outputs": [
    {
     "data": {
      "text/plain": [
       "(642, 146)"
      ]
     },
     "execution_count": 56,
     "metadata": {},
     "output_type": "execute_result"
    }
   ],
   "execution_count": 56
  },
  {
   "metadata": {
    "ExecuteTime": {
     "end_time": "2025-05-30T16:24:12.149640Z",
     "start_time": "2025-05-30T16:24:12.145253Z"
    }
   },
   "cell_type": "code",
   "source": [
    "for x in X_train_trf[0]:\n",
    "    print(x,end=\" \")"
   ],
   "id": "aac3969984119469",
   "outputs": [
    {
     "name": "stdout",
     "output_type": "stream",
     "text": [
      "-0.7887124428666072 -0.8254126888746073 0.10146600700940012 0.09932832729437269 -0.356555267121388 -1.2114665548903043 0.24885148764271575 -0.7554925031008349 0.0 0.0 0.0 0.0 0.0 0.0 0.0 0.0 0.0 0.0 0.0 0.0 0.0 0.0 0.0 0.0 0.0 0.0 0.0 0.0 0.0 0.0 0.0 0.0 0.0 0.0 0.0 0.0 0.0 0.0 0.0 0.0 0.0 0.0 0.0 0.0 0.0 0.0 0.0 0.0 0.0 0.0 0.0 0.0 0.0 0.0 0.0 1.0 0.0 0.0 0.0 0.0 0.0 0.0 0.0 0.0 0.0 0.0 0.0 0.0 0.0 0.0 0.0 0.0 0.0 0.0 0.0 0.0 0.0 0.0 0.0 0.0 0.0 0.0 0.0 0.0 0.0 0.0 0.0 0.0 0.0 0.0 0.0 0.0 0.0 0.0 0.0 0.0 0.0 0.0 0.0 0.0 0.0 0.0 0.0 0.0 0.0 0.0 0.0 0.0 0.0 0.0 0.0 0.0 0.0 0.0 0.0 0.0 0.0 0.0 0.0 0.0 0.0 0.0 0.0 0.0 0.0 0.0 0.0 0.0 0.0 0.0 0.0 0.0 0.0 0.0 0.0 0.0 0.0 0.0 0.0 0.0 0.0 0.0 0.0 0.0 0.0 0.0 "
     ]
    }
   ],
   "execution_count": 57
  },
  {
   "metadata": {
    "ExecuteTime": {
     "end_time": "2025-05-30T16:24:12.152183Z",
     "start_time": "2025-05-30T16:24:12.149640Z"
    }
   },
   "cell_type": "code",
   "source": "",
   "id": "dab0e11ae5e41d96",
   "outputs": [],
   "execution_count": 57
  }
 ],
 "metadata": {
  "kernelspec": {
   "display_name": "Python 3",
   "language": "python",
   "name": "python3"
  },
  "language_info": {
   "codemirror_mode": {
    "name": "ipython",
    "version": 2
   },
   "file_extension": ".py",
   "mimetype": "text/x-python",
   "name": "python",
   "nbconvert_exporter": "python",
   "pygments_lexer": "ipython2",
   "version": "2.7.6"
  }
 },
 "nbformat": 4,
 "nbformat_minor": 5
}
